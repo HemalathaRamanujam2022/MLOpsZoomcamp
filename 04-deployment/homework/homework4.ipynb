{
 "cells": [
  {
   "cell_type": "code",
   "execution_count": 1,
   "id": "142b7c02-73a8-4569-8c1d-09083df49de9",
   "metadata": {},
   "outputs": [
    {
     "name": "stdout",
     "output_type": "stream",
     "text": [
      "scikit-learn==1.0.2\n"
     ]
    }
   ],
   "source": [
    "!pip freeze | grep scikit-learn"
   ]
  },
  {
   "cell_type": "code",
   "execution_count": 2,
   "id": "5c9bcd94-607f-44bf-8965-3b2c392b003b",
   "metadata": {},
   "outputs": [
    {
     "name": "stdout",
     "output_type": "stream",
     "text": [
      "Python 3.9.19\n"
     ]
    }
   ],
   "source": [
    "\n",
    "!python -V"
   ]
  },
  {
   "cell_type": "code",
   "execution_count": 4,
   "id": "4199fbc0-d658-4373-a06f-44ebbd61ff17",
   "metadata": {},
   "outputs": [],
   "source": [
    "\n",
    "import pickle\n",
    "import pandas as pd"
   ]
  },
  {
   "cell_type": "code",
   "execution_count": 5,
   "id": "92f3ca30-5fb5-4742-9823-1d8f501de454",
   "metadata": {},
   "outputs": [
    {
     "name": "stderr",
     "output_type": "stream",
     "text": [
      "/home/ubuntu/.local/share/virtualenvs/web-service-mlflow-ZkaECBB5/lib/python3.9/site-packages/sklearn/base.py:329: UserWarning: Trying to unpickle estimator DictVectorizer from version 1.5.0 when using version 1.0.2. This might lead to breaking code or invalid results. Use at your own risk. For more info please refer to:\n",
      "https://scikit-learn.org/stable/modules/model_persistence.html#security-maintainability-limitations\n",
      "  warnings.warn(\n",
      "/home/ubuntu/.local/share/virtualenvs/web-service-mlflow-ZkaECBB5/lib/python3.9/site-packages/sklearn/base.py:329: UserWarning: Trying to unpickle estimator LinearRegression from version 1.5.0 when using version 1.0.2. This might lead to breaking code or invalid results. Use at your own risk. For more info please refer to:\n",
      "https://scikit-learn.org/stable/modules/model_persistence.html#security-maintainability-limitations\n",
      "  warnings.warn(\n"
     ]
    }
   ],
   "source": [
    "\n",
    "with open('model.bin', 'rb') as f_in:\n",
    "    dv, model = pickle.load(f_in)"
   ]
  },
  {
   "cell_type": "code",
   "execution_count": 6,
   "id": "81b27743-f05d-4e84-a1e7-4f8800739dbf",
   "metadata": {},
   "outputs": [],
   "source": [
    "categorical = ['PULocationID', 'DOLocationID']\n",
    "\n",
    "def read_data(filename):\n",
    "    df = pd.read_parquet(filename)\n",
    "    \n",
    "    df['duration'] = df.tpep_dropoff_datetime - df.tpep_pickup_datetime\n",
    "    df['duration'] = df.duration.dt.total_seconds() / 60\n",
    "\n",
    "    df = df[(df.duration >= 1) & (df.duration <= 60)].copy()\n",
    "\n",
    "    df[categorical] = df[categorical].fillna(-1).astype('int').astype('str')\n",
    "    \n",
    "    return df"
   ]
  },
  {
   "cell_type": "code",
   "execution_count": 7,
   "id": "f7540d72-77c5-4114-8480-fdc868f206c6",
   "metadata": {},
   "outputs": [],
   "source": [
    "df = read_data('https://d37ci6vzurychx.cloudfront.net/trip-data/yellow_tripdata_2023-03.parquet')"
   ]
  },
  {
   "cell_type": "code",
   "execution_count": 8,
   "id": "6bd3d703-6672-48c6-830a-bab6525f30b1",
   "metadata": {},
   "outputs": [],
   "source": [
    "dicts = df[categorical].to_dict(orient='records')\n",
    "X_val = dv.transform(dicts)\n",
    "y_pred = model.predict(X_val)\n"
   ]
  },
  {
   "cell_type": "code",
   "execution_count": 12,
   "id": "dece067f-b74a-477b-8069-a5d9aa8c3212",
   "metadata": {},
   "outputs": [],
   "source": [
    "from sklearn.metrics import mean_squared_error"
   ]
  },
  {
   "cell_type": "code",
   "execution_count": 13,
   "id": "b7e64778-6e4d-408b-9d4b-32cb12fd526b",
   "metadata": {},
   "outputs": [
    {
     "data": {
      "text/plain": [
       "8.249440527525513"
      ]
     },
     "execution_count": 13,
     "metadata": {},
     "output_type": "execute_result"
    }
   ],
   "source": [
    "target = 'duration'\n",
    "y_train = df[target].values\n",
    "\n",
    "mean_squared_error(y_train, y_pred, squared=False)"
   ]
  },
  {
   "cell_type": "code",
   "execution_count": 9,
   "id": "597db2f1-12bb-4520-8ec0-fb7387b2e1d3",
   "metadata": {},
   "outputs": [
    {
     "data": {
      "text/plain": [
       "array([16.24590642, 26.1347962 , 11.88426424, ..., 11.59533603,\n",
       "       13.11317847, 12.89999218])"
      ]
     },
     "execution_count": 9,
     "metadata": {},
     "output_type": "execute_result"
    }
   ],
   "source": [
    "y_pred"
   ]
  },
  {
   "cell_type": "code",
   "execution_count": 14,
   "id": "12d1537d-b964-4fe9-8307-8a61e3655e17",
   "metadata": {},
   "outputs": [
    {
     "data": {
      "text/plain": [
       "6.247488852238703"
      ]
     },
     "execution_count": 14,
     "metadata": {},
     "output_type": "execute_result"
    }
   ],
   "source": [
    "y_pred.std()"
   ]
  },
  {
   "cell_type": "code",
   "execution_count": 22,
   "id": "b73205c0-5a03-4b41-b3a6-d6f709866b7a",
   "metadata": {},
   "outputs": [
    {
     "data": {
      "text/plain": [
       "3316216"
      ]
     },
     "execution_count": 22,
     "metadata": {},
     "output_type": "execute_result"
    }
   ],
   "source": [
    "len(y_pred)"
   ]
  },
  {
   "cell_type": "code",
   "execution_count": 23,
   "id": "2e31c9fc-3573-47e2-b0b8-698e6b4255c3",
   "metadata": {},
   "outputs": [
    {
     "data": {
      "text/plain": [
       "3316216"
      ]
     },
     "execution_count": 23,
     "metadata": {},
     "output_type": "execute_result"
    }
   ],
   "source": [
    "len(df)"
   ]
  },
  {
   "cell_type": "code",
   "execution_count": 10,
   "id": "d5ba435e-b16e-4fda-8d91-3be7b4333c7b",
   "metadata": {},
   "outputs": [
    {
     "data": {
      "text/plain": [
       "<3316216x515 sparse matrix of type '<class 'numpy.float64'>'\n",
       "\twith 6632424 stored elements in Compressed Sparse Row format>"
      ]
     },
     "execution_count": 10,
     "metadata": {},
     "output_type": "execute_result"
    }
   ],
   "source": [
    "X_val"
   ]
  },
  {
   "cell_type": "code",
   "execution_count": 17,
   "id": "8ef7670f-46ab-43b9-a5dc-743307d15b00",
   "metadata": {},
   "outputs": [],
   "source": [
    "year=2023\n",
    "month=3\n",
    "df['ride_id'] = f'{year:04d}/{month:02d}_' + df.index.astype('str')"
   ]
  },
  {
   "cell_type": "code",
   "execution_count": 18,
   "id": "1203e8a5-83d7-4c32-8501-ea6efb19914b",
   "metadata": {},
   "outputs": [
    {
     "data": {
      "text/html": [
       "<div>\n",
       "<style scoped>\n",
       "    .dataframe tbody tr th:only-of-type {\n",
       "        vertical-align: middle;\n",
       "    }\n",
       "\n",
       "    .dataframe tbody tr th {\n",
       "        vertical-align: top;\n",
       "    }\n",
       "\n",
       "    .dataframe thead th {\n",
       "        text-align: right;\n",
       "    }\n",
       "</style>\n",
       "<table border=\"1\" class=\"dataframe\">\n",
       "  <thead>\n",
       "    <tr style=\"text-align: right;\">\n",
       "      <th></th>\n",
       "      <th>VendorID</th>\n",
       "      <th>tpep_pickup_datetime</th>\n",
       "      <th>tpep_dropoff_datetime</th>\n",
       "      <th>passenger_count</th>\n",
       "      <th>trip_distance</th>\n",
       "      <th>RatecodeID</th>\n",
       "      <th>store_and_fwd_flag</th>\n",
       "      <th>PULocationID</th>\n",
       "      <th>DOLocationID</th>\n",
       "      <th>payment_type</th>\n",
       "      <th>...</th>\n",
       "      <th>extra</th>\n",
       "      <th>mta_tax</th>\n",
       "      <th>tip_amount</th>\n",
       "      <th>tolls_amount</th>\n",
       "      <th>improvement_surcharge</th>\n",
       "      <th>total_amount</th>\n",
       "      <th>congestion_surcharge</th>\n",
       "      <th>Airport_fee</th>\n",
       "      <th>duration</th>\n",
       "      <th>ride_id</th>\n",
       "    </tr>\n",
       "  </thead>\n",
       "  <tbody>\n",
       "    <tr>\n",
       "      <th>0</th>\n",
       "      <td>2</td>\n",
       "      <td>2023-03-01 00:06:43</td>\n",
       "      <td>2023-03-01 00:16:43</td>\n",
       "      <td>1.0</td>\n",
       "      <td>0.00</td>\n",
       "      <td>1.0</td>\n",
       "      <td>N</td>\n",
       "      <td>238</td>\n",
       "      <td>42</td>\n",
       "      <td>2</td>\n",
       "      <td>...</td>\n",
       "      <td>1.0</td>\n",
       "      <td>0.5</td>\n",
       "      <td>0.00</td>\n",
       "      <td>0.0</td>\n",
       "      <td>1.0</td>\n",
       "      <td>11.10</td>\n",
       "      <td>0.0</td>\n",
       "      <td>0.00</td>\n",
       "      <td>10.000000</td>\n",
       "      <td>2023/03_0</td>\n",
       "    </tr>\n",
       "    <tr>\n",
       "      <th>1</th>\n",
       "      <td>2</td>\n",
       "      <td>2023-03-01 00:08:25</td>\n",
       "      <td>2023-03-01 00:39:30</td>\n",
       "      <td>2.0</td>\n",
       "      <td>12.40</td>\n",
       "      <td>1.0</td>\n",
       "      <td>N</td>\n",
       "      <td>138</td>\n",
       "      <td>231</td>\n",
       "      <td>1</td>\n",
       "      <td>...</td>\n",
       "      <td>6.0</td>\n",
       "      <td>0.5</td>\n",
       "      <td>12.54</td>\n",
       "      <td>0.0</td>\n",
       "      <td>1.0</td>\n",
       "      <td>76.49</td>\n",
       "      <td>2.5</td>\n",
       "      <td>1.25</td>\n",
       "      <td>31.083333</td>\n",
       "      <td>2023/03_1</td>\n",
       "    </tr>\n",
       "    <tr>\n",
       "      <th>2</th>\n",
       "      <td>1</td>\n",
       "      <td>2023-03-01 00:15:04</td>\n",
       "      <td>2023-03-01 00:29:26</td>\n",
       "      <td>0.0</td>\n",
       "      <td>3.30</td>\n",
       "      <td>1.0</td>\n",
       "      <td>N</td>\n",
       "      <td>140</td>\n",
       "      <td>186</td>\n",
       "      <td>1</td>\n",
       "      <td>...</td>\n",
       "      <td>3.5</td>\n",
       "      <td>0.5</td>\n",
       "      <td>4.65</td>\n",
       "      <td>0.0</td>\n",
       "      <td>1.0</td>\n",
       "      <td>28.05</td>\n",
       "      <td>2.5</td>\n",
       "      <td>0.00</td>\n",
       "      <td>14.366667</td>\n",
       "      <td>2023/03_2</td>\n",
       "    </tr>\n",
       "    <tr>\n",
       "      <th>3</th>\n",
       "      <td>1</td>\n",
       "      <td>2023-03-01 00:49:37</td>\n",
       "      <td>2023-03-01 01:01:05</td>\n",
       "      <td>1.0</td>\n",
       "      <td>2.90</td>\n",
       "      <td>1.0</td>\n",
       "      <td>N</td>\n",
       "      <td>140</td>\n",
       "      <td>43</td>\n",
       "      <td>1</td>\n",
       "      <td>...</td>\n",
       "      <td>3.5</td>\n",
       "      <td>0.5</td>\n",
       "      <td>4.10</td>\n",
       "      <td>0.0</td>\n",
       "      <td>1.0</td>\n",
       "      <td>24.70</td>\n",
       "      <td>2.5</td>\n",
       "      <td>0.00</td>\n",
       "      <td>11.466667</td>\n",
       "      <td>2023/03_3</td>\n",
       "    </tr>\n",
       "    <tr>\n",
       "      <th>4</th>\n",
       "      <td>2</td>\n",
       "      <td>2023-03-01 00:08:04</td>\n",
       "      <td>2023-03-01 00:11:06</td>\n",
       "      <td>1.0</td>\n",
       "      <td>1.23</td>\n",
       "      <td>1.0</td>\n",
       "      <td>N</td>\n",
       "      <td>79</td>\n",
       "      <td>137</td>\n",
       "      <td>1</td>\n",
       "      <td>...</td>\n",
       "      <td>1.0</td>\n",
       "      <td>0.5</td>\n",
       "      <td>2.44</td>\n",
       "      <td>0.0</td>\n",
       "      <td>1.0</td>\n",
       "      <td>14.64</td>\n",
       "      <td>2.5</td>\n",
       "      <td>0.00</td>\n",
       "      <td>3.033333</td>\n",
       "      <td>2023/03_4</td>\n",
       "    </tr>\n",
       "  </tbody>\n",
       "</table>\n",
       "<p>5 rows × 21 columns</p>\n",
       "</div>"
      ],
      "text/plain": [
       "   VendorID tpep_pickup_datetime tpep_dropoff_datetime  passenger_count  \\\n",
       "0         2  2023-03-01 00:06:43   2023-03-01 00:16:43              1.0   \n",
       "1         2  2023-03-01 00:08:25   2023-03-01 00:39:30              2.0   \n",
       "2         1  2023-03-01 00:15:04   2023-03-01 00:29:26              0.0   \n",
       "3         1  2023-03-01 00:49:37   2023-03-01 01:01:05              1.0   \n",
       "4         2  2023-03-01 00:08:04   2023-03-01 00:11:06              1.0   \n",
       "\n",
       "   trip_distance  RatecodeID store_and_fwd_flag PULocationID DOLocationID  \\\n",
       "0           0.00         1.0                  N          238           42   \n",
       "1          12.40         1.0                  N          138          231   \n",
       "2           3.30         1.0                  N          140          186   \n",
       "3           2.90         1.0                  N          140           43   \n",
       "4           1.23         1.0                  N           79          137   \n",
       "\n",
       "   payment_type  ...  extra  mta_tax  tip_amount  tolls_amount  \\\n",
       "0             2  ...    1.0      0.5        0.00           0.0   \n",
       "1             1  ...    6.0      0.5       12.54           0.0   \n",
       "2             1  ...    3.5      0.5        4.65           0.0   \n",
       "3             1  ...    3.5      0.5        4.10           0.0   \n",
       "4             1  ...    1.0      0.5        2.44           0.0   \n",
       "\n",
       "   improvement_surcharge  total_amount  congestion_surcharge  Airport_fee  \\\n",
       "0                    1.0         11.10                   0.0         0.00   \n",
       "1                    1.0         76.49                   2.5         1.25   \n",
       "2                    1.0         28.05                   2.5         0.00   \n",
       "3                    1.0         24.70                   2.5         0.00   \n",
       "4                    1.0         14.64                   2.5         0.00   \n",
       "\n",
       "    duration    ride_id  \n",
       "0  10.000000  2023/03_0  \n",
       "1  31.083333  2023/03_1  \n",
       "2  14.366667  2023/03_2  \n",
       "3  11.466667  2023/03_3  \n",
       "4   3.033333  2023/03_4  \n",
       "\n",
       "[5 rows x 21 columns]"
      ]
     },
     "execution_count": 18,
     "metadata": {},
     "output_type": "execute_result"
    }
   ],
   "source": [
    "df.head()"
   ]
  },
  {
   "cell_type": "code",
   "execution_count": 25,
   "id": "2bbe271f-e26f-49ef-8c46-ca51bf685f77",
   "metadata": {},
   "outputs": [],
   "source": [
    "df_result = pd.DataFrame({\"ride_id\": df[\"ride_id\"], \"y_pred\" : y_pred})"
   ]
  },
  {
   "cell_type": "code",
   "execution_count": 27,
   "id": "b5d80020-f05e-4329-bbcb-264c5a7aaf2e",
   "metadata": {},
   "outputs": [],
   "source": [
    "df_result.to_parquet(\n",
    "    \"./output_file\",\n",
    "    engine='pyarrow',\n",
    "    compression=None,\n",
    "    index=False\n",
    ")"
   ]
  },
  {
   "cell_type": "code",
   "execution_count": 28,
   "id": "58af5bc8-7fd7-417d-9d8a-ffc4d136c327",
   "metadata": {},
   "outputs": [
    {
     "name": "stdout",
     "output_type": "stream",
     "text": [
      "total 69388\n",
      "drwxr-xr-x 5 ubuntu ubuntu     4096 Jun 24 02:51 .\n",
      "drwxr-xr-x 4 ubuntu ubuntu     4096 Jun 23 23:57 ..\n",
      "drwxr-xr-x 2 ubuntu ubuntu     4096 Jun 24 02:15 .ipynb_checkpoints\n",
      "-rw-r--r-- 1 ubuntu ubuntu      311 Jun 24 00:09 Pipfile\n",
      "-rw-r--r-- 1 ubuntu ubuntu   124837 Jun 24 00:10 Pipfile.lock\n",
      "-rw-r--r-- 1 ubuntu ubuntu  1915228 Jun 24 01:44 dict_vectorizer.bin\n",
      "-rw-r--r-- 1 ubuntu ubuntu    15715 Jun 24 02:51 homework4.ipynb\n",
      "drwxr-xr-x 3 ubuntu ubuntu     4096 Jun 24 01:44 mlartifacts\n",
      "-rw-r--r-- 1 ubuntu ubuntu   225280 Jun 24 01:55 mlflow.db\n",
      "drwxr-xr-x 4 ubuntu ubuntu     4096 Jun 24 01:47 mlruns\n",
      "-rw-r--r-- 1 ubuntu ubuntu    17376 Jun 24 02:19 model.bin\n",
      "-rw-r--r-- 1 ubuntu ubuntu 68641704 Jun 24 02:50 output_file\n",
      "-rw-r--r-- 1 ubuntu ubuntu     1302 Jun 24 02:13 predict.py\n",
      "-rw-r--r-- 1 ubuntu ubuntu    64256 Jun 24 02:15 random-forest.ipynb\n",
      "-rw-r--r-- 1 ubuntu ubuntu      480 Jun 24 02:01 test.py\n"
     ]
    }
   ],
   "source": [
    "!ls -al"
   ]
  },
  {
   "cell_type": "code",
   "execution_count": null,
   "id": "b387cbf5-1e21-4ab4-ab13-e81f3a342c27",
   "metadata": {},
   "outputs": [],
   "source": []
  }
 ],
 "metadata": {
  "kernelspec": {
   "display_name": "web-service-mlflow",
   "language": "python",
   "name": "web-service-mlflow"
  },
  "language_info": {
   "codemirror_mode": {
    "name": "ipython",
    "version": 3
   },
   "file_extension": ".py",
   "mimetype": "text/x-python",
   "name": "python",
   "nbconvert_exporter": "python",
   "pygments_lexer": "ipython3",
   "version": "3.9.19"
  }
 },
 "nbformat": 4,
 "nbformat_minor": 5
}
